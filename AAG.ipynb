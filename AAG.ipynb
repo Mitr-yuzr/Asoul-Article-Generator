{
  "nbformat": 4,
  "nbformat_minor": 0,
  "metadata": {
    "colab": {
      "provenance": [],
      "collapsed_sections": [],
      "authorship_tag": "ABX9TyM8KgDbxB4KS6w3BOyO04eq",
      "include_colab_link": true
    },
    "kernelspec": {
      "name": "python3",
      "display_name": "Python 3"
    },
    "language_info": {
      "name": "python"
    },
    "gpuClass": "standard",
    "accelerator": "GPU"
  },
  "cells": [
    {
      "cell_type": "markdown",
      "metadata": {
        "id": "view-in-github",
        "colab_type": "text"
      },
      "source": [
        "<a href=\"https://colab.research.google.com/github/Mitr-yuzr/Asoul-Article-Generator/blob/main/AAG.ipynb\" target=\"_parent\"><img src=\"https://colab.research.google.com/assets/colab-badge.svg\" alt=\"Open In Colab\"/></a>"
      ]
    },
    {
      "cell_type": "markdown",
      "source": [
        "# Asoul小作文生成器\n",
        "\n",
        "___\n",
        "\n",
        "> 基于[gpt2-chinese模型](https://github.com/Morizeyao/GPT2-Chinese)，训练数据来自于[枝网查重](https://asoulcnki.asia/)\n",
        "\n",
        "作者 **Mitr-yuzr**  \n",
        "GITHUB: [Mitr-yuzr](https://github.com/Mitr-yuzr)  \n",
        "QQ: 1758919843  \n",
        "EMAIL: craft.yuzr@qq.com  \n",
        "BILIBILI: [Meowscar](https://space.bilibili.com/3461565128902676)"
      ],
      "metadata": {
        "id": "lUgHCKeECPTM"
      }
    },
    {
      "cell_type": "markdown",
      "source": [
        "## 声明\n",
        "\n",
        "___\n",
        "\n",
        "仅供学习用途，禁止用于任何违反法律法规和社区规定的行为，禁止用于商业行为。"
      ],
      "metadata": {
        "id": "8KvvWcr1E_XD"
      }
    },
    {
      "cell_type": "markdown",
      "source": [
        "## 使用方法\n",
        "\n",
        "___\n",
        "\n",
        "- 首先点击右上角的**连接**，等待分配完成和初始化\n",
        "- 在上方菜单栏中选择**代码执行程序**，在倒数第三项找到**更改运行时类型**，在**硬件加速器**中选择`GPU`，等待分配完成\n",
        "- 点击下方**初始化**的播放按钮运行初始化代码\n",
        "- 在**生成Asoul小作文**中修改生成参数，修改完后点击播放按钮运行代码，等待输出结果\n",
        "- 若想再次生成，只需修改参数后再次运行**生成Asoul小作文**即可，无需重复初始化\n",
        "\n",
        "\n",
        "\n",
        "你都会科学上网了，这点东西总是不会出问题的吧？"
      ],
      "metadata": {
        "id": "osoNGRsbDBQZ"
      }
    },
    {
      "cell_type": "markdown",
      "source": [
        "## 初始化\n",
        "\n",
        "___\n",
        "\n",
        "下载源码、模型以及安装环境"
      ],
      "metadata": {
        "id": "FVae9nEIilpx"
      }
    },
    {
      "cell_type": "code",
      "execution_count": null,
      "metadata": {
        "id": "LVmJjjY4fr8O",
        "cellView": "form"
      },
      "outputs": [],
      "source": [
        "#@title\n",
        "!git clone https://github.com/Mitr-yuzr/gpt2zh-as\n",
        "%cd gpt2zh-as\n",
        "!pip install -r requirements.txt\n",
        "!mkdir model\n",
        "%cd model\n",
        "!gdown '1bEQKtHjrRcvQJhdgWJhw6m9d_OcDQRjW'\n",
        "!gdown '15Cyx38i9pKHa0sjd_FC9U20kTx96YtOp'\n",
        "!gdown '15GpZe2LAg7amUQPlNu9tqsJJhNs-3ajb'"
      ]
    },
    {
      "cell_type": "markdown",
      "source": [
        "## 生成Asoul小作文\n",
        "\n",
        "___"
      ],
      "metadata": {
        "id": "md_rhSod0_VQ"
      }
    },
    {
      "cell_type": "code",
      "source": [
        "#@title # 参数\n",
        "#@markdown ___\n",
        "\n",
        "%cd /content/gpt2zh-as\n",
        "import generate\n",
        "\n",
        "#@markdown ### 生成内容开头\n",
        "prefix = \"嘉然\" #@param {type:\"string\"}\n",
        "\n",
        "#@markdown ### 生成长度\n",
        "#@markdown 越长就耗时越久\n",
        "length = 300 #@param {type:\"integer\"}\n",
        "\n",
        "#@markdown ### 生成的数量\n",
        "#@markdown 越多就耗时越久\n",
        "nsamples = 3 #@param {type:\"integer\"}\n",
        "\n",
        "#@markdown ### 生成温度\n",
        "#@markdown 使用默认的1.0就好！\n",
        "temperature = 1.0 #@param {type:\"number\"}\n",
        "\n",
        "#@markdown ### 采用更加快的方式生成文本\n",
        "fast_pattern = True #@param {type:\"boolean\"}\n",
        "\n",
        "generate.startGenerate(prefix, length, nsamples, temperature, fast_pattern)"
      ],
      "metadata": {
        "id": "ZPC7SZU21AF_",
        "cellView": "form"
      },
      "execution_count": null,
      "outputs": []
    }
  ]
}